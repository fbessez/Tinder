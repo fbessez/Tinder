{
 "cells": [
  {
   "cell_type": "markdown",
   "metadata": {},
   "source": [
    "# Example: View Profile"
   ]
  },
  {
   "cell_type": "code",
   "execution_count": 2,
   "metadata": {},
   "outputs": [],
   "source": [
    "from datetime import date\n",
    "from IPython.display import Image, display\n",
    "import tinder_api"
   ]
  },
  {
   "cell_type": "code",
   "execution_count": 3,
   "metadata": {},
   "outputs": [],
   "source": [
    "def calculate_age(birthday_string):\n",
    "    '''\n",
    "    Converts from '1997-03-25T22:49:41.151Z' to an integer (age)\n",
    "    '''\n",
    "    birthyear = int(birthday_string[:4])\n",
    "    birthmonth = int(birthday_string[5:7])\n",
    "    birthday = int(birthday_string[8:10])\n",
    "    today = date.today()\n",
    "    return today.year - birthyear - ((today.month, today.day) < (birthmonth, birthday))"
   ]
  },
  {
   "cell_type": "code",
   "execution_count": 1,
   "metadata": {},
   "outputs": [],
   "source": [
    "username=''\n",
    "password=''"
   ]
  },
  {
   "cell_type": "code",
   "execution_count": 4,
   "metadata": {},
   "outputs": [],
   "source": [
    "tinder = tinder_api.Client(username=username, password=password)"
   ]
  },
  {
   "cell_type": "code",
   "execution_count": 19,
   "metadata": {
    "scrolled": false
   },
   "outputs": [
    {
     "data": {
      "text/plain": [
       "{'_id': '5885e1b4a0103e1f3d117e1d',\n",
       " 'age_filter_max': 24,\n",
       " 'age_filter_min': 19,\n",
       " 'bio': 'Living life just doing it for the gram <3',\n",
       " 'birth_date': '1995-09-15T00:00:00.000Z',\n",
       " 'blend': 'optimal',\n",
       " 'can_create_squad': False,\n",
       " 'create_date': '2017-01-23T10:57:56.371Z',\n",
       " 'discoverable': True,\n",
       " 'distance_filter': 1,\n",
       " 'email': 'kothary.vikash@gmail.com',\n",
       " 'facebook_id': '634938176553599',\n",
       " 'gender': 0,\n",
       " 'gender_filter': 1,\n",
       " 'interested_in': [1],\n",
       " 'jobs': [],\n",
       " 'name': 'Vikash',\n",
       " 'photo_optimizer_enabled': True,\n",
       " 'photo_optimizer_has_result': False,\n",
       " 'photos': [{'extension': 'jpg',\n",
       "   'fbId': '918419824872098',\n",
       "   'fileName': 'e61a0d31-2bdd-4787-b12f-87deca36d2be.jpg',\n",
       "   'id': 'e61a0d31-2bdd-4787-b12f-87deca36d2be',\n",
       "   'processedFiles': [{'height': 640,\n",
       "     'url': 'https://images-ssl.gotinder.com/5885e1b4a0103e1f3d117e1d/640x640_e61a0d31-2bdd-4787-b12f-87deca36d2be.jpg',\n",
       "     'width': 640},\n",
       "    {'height': 320,\n",
       "     'url': 'https://images-ssl.gotinder.com/5885e1b4a0103e1f3d117e1d/320x320_e61a0d31-2bdd-4787-b12f-87deca36d2be.jpg',\n",
       "     'width': 320},\n",
       "    {'height': 172,\n",
       "     'url': 'https://images-ssl.gotinder.com/5885e1b4a0103e1f3d117e1d/172x172_e61a0d31-2bdd-4787-b12f-87deca36d2be.jpg',\n",
       "     'width': 172},\n",
       "    {'height': 84,\n",
       "     'url': 'https://images-ssl.gotinder.com/5885e1b4a0103e1f3d117e1d/84x84_e61a0d31-2bdd-4787-b12f-87deca36d2be.jpg',\n",
       "     'width': 84}],\n",
       "   'selectRate': 0,\n",
       "   'shape': 'center_square',\n",
       "   'url': 'https://images-ssl.gotinder.com/5885e1b4a0103e1f3d117e1d/e61a0d31-2bdd-4787-b12f-87deca36d2be.jpg'},\n",
       "  {'extension': 'jpg',\n",
       "   'fbId': '869625899751491',\n",
       "   'fileName': '46643f7d-9b22-4a38-b48b-474be740abcf.jpg',\n",
       "   'id': '46643f7d-9b22-4a38-b48b-474be740abcf',\n",
       "   'processedFiles': [{'height': 640,\n",
       "     'url': 'https://images-ssl.gotinder.com/5885e1b4a0103e1f3d117e1d/640x640_46643f7d-9b22-4a38-b48b-474be740abcf.jpg',\n",
       "     'width': 640},\n",
       "    {'height': 320,\n",
       "     'url': 'https://images-ssl.gotinder.com/5885e1b4a0103e1f3d117e1d/320x320_46643f7d-9b22-4a38-b48b-474be740abcf.jpg',\n",
       "     'width': 320},\n",
       "    {'height': 172,\n",
       "     'url': 'https://images-ssl.gotinder.com/5885e1b4a0103e1f3d117e1d/172x172_46643f7d-9b22-4a38-b48b-474be740abcf.jpg',\n",
       "     'width': 172},\n",
       "    {'height': 84,\n",
       "     'url': 'https://images-ssl.gotinder.com/5885e1b4a0103e1f3d117e1d/84x84_46643f7d-9b22-4a38-b48b-474be740abcf.jpg',\n",
       "     'width': 84}],\n",
       "   'selectRate': 0,\n",
       "   'url': 'https://images-ssl.gotinder.com/5885e1b4a0103e1f3d117e1d/46643f7d-9b22-4a38-b48b-474be740abcf.jpg',\n",
       "   'xdistance_percent': 1,\n",
       "   'xoffset_percent': 0,\n",
       "   'ydistance_percent': 0.9986110925674438,\n",
       "   'yoffset_percent': 0},\n",
       "  {'extension': 'jpg',\n",
       "   'fbId': '1286520458065296',\n",
       "   'fileName': '7a995093-2eb3-45a2-8a10-2608de60d6b1.jpg',\n",
       "   'id': '7a995093-2eb3-45a2-8a10-2608de60d6b1',\n",
       "   'processedFiles': [{'height': 640,\n",
       "     'url': 'https://images-ssl.gotinder.com/5885e1b4a0103e1f3d117e1d/640x640_7a995093-2eb3-45a2-8a10-2608de60d6b1.jpg',\n",
       "     'width': 640},\n",
       "    {'height': 320,\n",
       "     'url': 'https://images-ssl.gotinder.com/5885e1b4a0103e1f3d117e1d/320x320_7a995093-2eb3-45a2-8a10-2608de60d6b1.jpg',\n",
       "     'width': 320},\n",
       "    {'height': 172,\n",
       "     'url': 'https://images-ssl.gotinder.com/5885e1b4a0103e1f3d117e1d/172x172_7a995093-2eb3-45a2-8a10-2608de60d6b1.jpg',\n",
       "     'width': 172},\n",
       "    {'height': 84,\n",
       "     'url': 'https://images-ssl.gotinder.com/5885e1b4a0103e1f3d117e1d/84x84_7a995093-2eb3-45a2-8a10-2608de60d6b1.jpg',\n",
       "     'width': 84}],\n",
       "   'selectRate': 0,\n",
       "   'url': 'https://images-ssl.gotinder.com/5885e1b4a0103e1f3d117e1d/7a995093-2eb3-45a2-8a10-2608de60d6b1.jpg',\n",
       "   'xdistance_percent': 0.6402778029441833,\n",
       "   'xoffset_percent': 0.1944444477558136,\n",
       "   'ydistance_percent': 0.9645093679428101,\n",
       "   'yoffset_percent': 0.03549060598015785},\n",
       "  {'extension': 'jpg',\n",
       "   'fbId': '938374322919741',\n",
       "   'fileName': '9c150784-b9e9-47a8-809d-ba803a96f8af.jpg',\n",
       "   'id': '9c150784-b9e9-47a8-809d-ba803a96f8af',\n",
       "   'processedFiles': [{'height': 640,\n",
       "     'url': 'https://images-ssl.gotinder.com/5885e1b4a0103e1f3d117e1d/640x640_9c150784-b9e9-47a8-809d-ba803a96f8af.jpg',\n",
       "     'width': 640},\n",
       "    {'height': 320,\n",
       "     'url': 'https://images-ssl.gotinder.com/5885e1b4a0103e1f3d117e1d/320x320_9c150784-b9e9-47a8-809d-ba803a96f8af.jpg',\n",
       "     'width': 320},\n",
       "    {'height': 172,\n",
       "     'url': 'https://images-ssl.gotinder.com/5885e1b4a0103e1f3d117e1d/172x172_9c150784-b9e9-47a8-809d-ba803a96f8af.jpg',\n",
       "     'width': 172},\n",
       "    {'height': 84,\n",
       "     'url': 'https://images-ssl.gotinder.com/5885e1b4a0103e1f3d117e1d/84x84_9c150784-b9e9-47a8-809d-ba803a96f8af.jpg',\n",
       "     'width': 84}],\n",
       "   'selectRate': 0,\n",
       "   'url': 'https://images-ssl.gotinder.com/5885e1b4a0103e1f3d117e1d/9c150784-b9e9-47a8-809d-ba803a96f8af.jpg',\n",
       "   'xdistance_percent': 1,\n",
       "   'xoffset_percent': 0,\n",
       "   'ydistance_percent': 1,\n",
       "   'yoffset_percent': 0},\n",
       "  {'extension': 'jpg',\n",
       "   'fbId': '1733686053585673',\n",
       "   'fileName': '840d497f-f1d0-4613-8f89-6c05a728f04a.jpg',\n",
       "   'id': '840d497f-f1d0-4613-8f89-6c05a728f04a',\n",
       "   'processedFiles': [{'height': 640,\n",
       "     'url': 'https://images-ssl.gotinder.com/5885e1b4a0103e1f3d117e1d/640x640_840d497f-f1d0-4613-8f89-6c05a728f04a.jpg',\n",
       "     'width': 640},\n",
       "    {'height': 320,\n",
       "     'url': 'https://images-ssl.gotinder.com/5885e1b4a0103e1f3d117e1d/320x320_840d497f-f1d0-4613-8f89-6c05a728f04a.jpg',\n",
       "     'width': 320},\n",
       "    {'height': 172,\n",
       "     'url': 'https://images-ssl.gotinder.com/5885e1b4a0103e1f3d117e1d/172x172_840d497f-f1d0-4613-8f89-6c05a728f04a.jpg',\n",
       "     'width': 172},\n",
       "    {'height': 84,\n",
       "     'url': 'https://images-ssl.gotinder.com/5885e1b4a0103e1f3d117e1d/84x84_840d497f-f1d0-4613-8f89-6c05a728f04a.jpg',\n",
       "     'width': 84}],\n",
       "   'selectRate': 0,\n",
       "   'url': 'https://images-ssl.gotinder.com/5885e1b4a0103e1f3d117e1d/840d497f-f1d0-4613-8f89-6c05a728f04a.jpg',\n",
       "   'xdistance_percent': 0.6652777791023254,\n",
       "   'xoffset_percent': 0.10277777910232544,\n",
       "   'ydistance_percent': 1,\n",
       "   'yoffset_percent': 0},\n",
       "  {'extension': 'jpg',\n",
       "   'fbId': '943643155683098',\n",
       "   'fileName': 'f4957cae-893e-4ab4-8da8-f71d479a5be6.jpg',\n",
       "   'id': 'f4957cae-893e-4ab4-8da8-f71d479a5be6',\n",
       "   'main': True,\n",
       "   'processedFiles': [{'height': 640,\n",
       "     'url': 'https://images-ssl.gotinder.com/5885e1b4a0103e1f3d117e1d/640x640_f4957cae-893e-4ab4-8da8-f71d479a5be6.jpg',\n",
       "     'width': 640},\n",
       "    {'height': 320,\n",
       "     'url': 'https://images-ssl.gotinder.com/5885e1b4a0103e1f3d117e1d/320x320_f4957cae-893e-4ab4-8da8-f71d479a5be6.jpg',\n",
       "     'width': 320},\n",
       "    {'height': 172,\n",
       "     'url': 'https://images-ssl.gotinder.com/5885e1b4a0103e1f3d117e1d/172x172_f4957cae-893e-4ab4-8da8-f71d479a5be6.jpg',\n",
       "     'width': 172},\n",
       "    {'height': 84,\n",
       "     'url': 'https://images-ssl.gotinder.com/5885e1b4a0103e1f3d117e1d/84x84_f4957cae-893e-4ab4-8da8-f71d479a5be6.jpg',\n",
       "     'width': 84}],\n",
       "   'selectRate': 0,\n",
       "   'shape': 'center_square',\n",
       "   'url': 'https://images-ssl.gotinder.com/5885e1b4a0103e1f3d117e1d/f4957cae-893e-4ab4-8da8-f71d479a5be6.jpg'}],\n",
       " 'ping_time': '2018-10-31T03:08:07.093Z',\n",
       " 'pos': {'at': 1540768783665, 'lat': 51.59, 'lon': -0.33},\n",
       " 'pos_info': {'city': {'bounds': {'ne': {'lat': 51.69138472324317,\n",
       "     'lng': 0.335675929213428},\n",
       "    'sw': {'lat': 51.286224174845216, 'lng': -0.508813759616646}},\n",
       "   'name': 'London'},\n",
       "  'country': {'bounds': {'ne': {'lat': 61.92922, 'lng': 4.5},\n",
       "    'sw': {'lat': 48.906717, 'lng': -18}},\n",
       "   'cc': 'GB',\n",
       "   'name': 'United Kingdom'}},\n",
       " 'schools': [{'displayed': True,\n",
       "   'id': '129770430376569',\n",
       "   'name': \"King's College London\",\n",
       "   'type': 'College'}],\n",
       " 'show_gender_on_profile': False,\n",
       " 'spotify_connected': True}"
      ]
     },
     "execution_count": 19,
     "metadata": {},
     "output_type": "execute_result"
    }
   ],
   "source": [
    "my_profile = tinder.get_profile()\n",
    "my_profile"
   ]
  },
  {
   "cell_type": "code",
   "execution_count": 6,
   "metadata": {},
   "outputs": [
    {
     "data": {
      "text/plain": [
       "'5885e1b4a0103e1f3d117e1d'"
      ]
     },
     "execution_count": 6,
     "metadata": {},
     "output_type": "execute_result"
    }
   ],
   "source": [
    "profile_id = my_profile.get('_id')\n",
    "profile_id"
   ]
  },
  {
   "cell_type": "code",
   "execution_count": 7,
   "metadata": {},
   "outputs": [
    {
     "data": {
      "text/plain": [
       "[['https://images-ssl.gotinder.com/5885e1b4a0103e1f3d117e1d/640x640_e61a0d31-2bdd-4787-b12f-87deca36d2be.jpg',\n",
       "  None],\n",
       " ['https://images-ssl.gotinder.com/5885e1b4a0103e1f3d117e1d/640x640_46643f7d-9b22-4a38-b48b-474be740abcf.jpg',\n",
       "  None],\n",
       " ['https://images-ssl.gotinder.com/5885e1b4a0103e1f3d117e1d/640x640_7a995093-2eb3-45a2-8a10-2608de60d6b1.jpg',\n",
       "  None],\n",
       " ['https://images-ssl.gotinder.com/5885e1b4a0103e1f3d117e1d/640x640_9c150784-b9e9-47a8-809d-ba803a96f8af.jpg',\n",
       "  None],\n",
       " ['https://images-ssl.gotinder.com/5885e1b4a0103e1f3d117e1d/640x640_840d497f-f1d0-4613-8f89-6c05a728f04a.jpg',\n",
       "  None],\n",
       " ['https://images-ssl.gotinder.com/5885e1b4a0103e1f3d117e1d/640x640_f4957cae-893e-4ab4-8da8-f71d479a5be6.jpg',\n",
       "  None]]"
      ]
     },
     "execution_count": 7,
     "metadata": {},
     "output_type": "execute_result"
    }
   ],
   "source": [
    "photos = []\n",
    "my_photos = my_profile.get('photos')\n",
    "for i in range(len(my_photos)):\n",
    "    photo_url = my_photos[i].get('processedFiles')[0].get('url')\n",
    "    success_rate = my_photos[i].get('successRate')\n",
    "    photos.append([photo_url, success_rate])\n",
    "photos"
   ]
  },
  {
   "cell_type": "code",
   "execution_count": 8,
   "metadata": {},
   "outputs": [
    {
     "data": {
      "text/html": [
       "<img src=\"https://images-ssl.gotinder.com/5885e1b4a0103e1f3d117e1d/640x640_e61a0d31-2bdd-4787-b12f-87deca36d2be.jpg\"/>"
      ],
      "text/plain": [
       "<IPython.core.display.Image object>"
      ]
     },
     "metadata": {},
     "output_type": "display_data"
    },
    {
     "data": {
      "text/html": [
       "<img src=\"https://images-ssl.gotinder.com/5885e1b4a0103e1f3d117e1d/640x640_46643f7d-9b22-4a38-b48b-474be740abcf.jpg\"/>"
      ],
      "text/plain": [
       "<IPython.core.display.Image object>"
      ]
     },
     "metadata": {},
     "output_type": "display_data"
    },
    {
     "data": {
      "text/html": [
       "<img src=\"https://images-ssl.gotinder.com/5885e1b4a0103e1f3d117e1d/640x640_7a995093-2eb3-45a2-8a10-2608de60d6b1.jpg\"/>"
      ],
      "text/plain": [
       "<IPython.core.display.Image object>"
      ]
     },
     "metadata": {},
     "output_type": "display_data"
    },
    {
     "data": {
      "text/html": [
       "<img src=\"https://images-ssl.gotinder.com/5885e1b4a0103e1f3d117e1d/640x640_9c150784-b9e9-47a8-809d-ba803a96f8af.jpg\"/>"
      ],
      "text/plain": [
       "<IPython.core.display.Image object>"
      ]
     },
     "metadata": {},
     "output_type": "display_data"
    },
    {
     "data": {
      "text/html": [
       "<img src=\"https://images-ssl.gotinder.com/5885e1b4a0103e1f3d117e1d/640x640_840d497f-f1d0-4613-8f89-6c05a728f04a.jpg\"/>"
      ],
      "text/plain": [
       "<IPython.core.display.Image object>"
      ]
     },
     "metadata": {},
     "output_type": "display_data"
    },
    {
     "data": {
      "text/html": [
       "<img src=\"https://images-ssl.gotinder.com/5885e1b4a0103e1f3d117e1d/640x640_f4957cae-893e-4ab4-8da8-f71d479a5be6.jpg\"/>"
      ],
      "text/plain": [
       "<IPython.core.display.Image object>"
      ]
     },
     "metadata": {},
     "output_type": "display_data"
    }
   ],
   "source": [
    "images = []\n",
    "for i in range(len(photos)):\n",
    "    images.append(Image(url=photos[i][0]))\n",
    "display(*images)"
   ]
  },
  {
   "cell_type": "code",
   "execution_count": 9,
   "metadata": {},
   "outputs": [
    {
     "data": {
      "text/plain": [
       "'Vikash'"
      ]
     },
     "execution_count": 9,
     "metadata": {},
     "output_type": "execute_result"
    }
   ],
   "source": [
    "name = my_profile.get('name')\n",
    "name"
   ]
  },
  {
   "cell_type": "code",
   "execution_count": 10,
   "metadata": {},
   "outputs": [
    {
     "data": {
      "text/plain": [
       "23"
      ]
     },
     "execution_count": 10,
     "metadata": {},
     "output_type": "execute_result"
    }
   ],
   "source": [
    "age = calculate_age(my_profile.get('birth_date'))\n",
    "age"
   ]
  },
  {
   "cell_type": "code",
   "execution_count": 11,
   "metadata": {},
   "outputs": [
    {
     "data": {
      "text/plain": [
       "\"King's College London\""
      ]
     },
     "execution_count": 11,
     "metadata": {},
     "output_type": "execute_result"
    }
   ],
   "source": [
    "schools = []\n",
    "my_schools = my_profile.get('schools')\n",
    "for i in range(len(my_schools)):\n",
    "    schools.append(my_schools[i].get('name'))\n",
    "if len(schools):\n",
    "    schools = schools[0]\n",
    "schools"
   ]
  },
  {
   "cell_type": "code",
   "execution_count": 21,
   "metadata": {},
   "outputs": [
    {
     "data": {
      "text/plain": [
       "1"
      ]
     },
     "execution_count": 21,
     "metadata": {},
     "output_type": "execute_result"
    }
   ],
   "source": [
    "distance = my_profile.get('distance_mi', 1)\n",
    "distance"
   ]
  },
  {
   "cell_type": "code",
   "execution_count": 12,
   "metadata": {},
   "outputs": [
    {
     "data": {
      "text/plain": [
       "'Living life just doing it for the gram <3'"
      ]
     },
     "execution_count": 12,
     "metadata": {},
     "output_type": "execute_result"
    }
   ],
   "source": [
    "bio = my_profile.get('bio')\n",
    "bio"
   ]
  },
  {
   "cell_type": "code",
   "execution_count": null,
   "metadata": {},
   "outputs": [],
   "source": []
  }
 ],
 "metadata": {
  "kernelspec": {
   "display_name": "Python 3",
   "language": "python",
   "name": "python3"
  },
  "language_info": {
   "codemirror_mode": {
    "name": "ipython",
    "version": 3
   },
   "file_extension": ".py",
   "mimetype": "text/x-python",
   "name": "python",
   "nbconvert_exporter": "python",
   "pygments_lexer": "ipython3",
   "version": "3.5.2"
  }
 },
 "nbformat": 4,
 "nbformat_minor": 2
}
