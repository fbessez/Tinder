{
 "cells": [
  {
   "cell_type": "code",
   "execution_count": 292,
   "metadata": {},
   "outputs": [],
   "source": [
    "from datetime import date\n",
    "from IPython.display import Image\n",
    "from IPython.core.display import HTML \n",
    "from tinder_api.client import Client\n",
    "from tinder_api.utils import FileUtils"
   ]
  },
  {
   "cell_type": "code",
   "execution_count": 187,
   "metadata": {},
   "outputs": [],
   "source": [
    "def calculate_age(birthday_string):\n",
    "    '''\n",
    "    Converts from '1997-03-25T22:49:41.151Z' to an integer (age)\n",
    "    '''\n",
    "    birthyear = int(birthday_string[:4])\n",
    "    birthmonth = int(birthday_string[5:7])\n",
    "    birthday = int(birthday_string[8:10])\n",
    "    today = date.today()\n",
    "    return today.year - birthyear - ((today.month, today.day) < (birthmonth, birthday))"
   ]
  },
  {
   "cell_type": "code",
   "execution_count": 2,
   "metadata": {},
   "outputs": [],
   "source": [
    "username = 'tej780@hotmail.co.uk'\n",
    "password = ''"
   ]
  },
  {
   "cell_type": "code",
   "execution_count": 3,
   "metadata": {},
   "outputs": [],
   "source": [
    "tinder = Client(username=username,password=password)"
   ]
  },
  {
   "cell_type": "code",
   "execution_count": 242,
   "metadata": {},
   "outputs": [],
   "source": [
    "recommendations = tinder.get_recs()"
   ]
  },
  {
   "cell_type": "code",
   "execution_count": 243,
   "metadata": {},
   "outputs": [
    {
     "name": "stdout",
     "output_type": "stream",
     "text": [
      "[]\n"
     ]
    }
   ],
   "source": [
    "results = recommendations['data']['results']\n",
    "bants = []\n",
    "\n",
    "for usr in range(len(results)):\n",
    "    images = results[usr]['user']['photos']\n",
    "    lolz = []\n",
    "    yoks = []\n",
    "    \n",
    "    for img in range(len(images)):\n",
    "        url = images[img]['url']\n",
    "        sr = images[img].get('successRate')\n",
    "        if sr != None:\n",
    "            yoks.append(sr)\n",
    "            \n",
    "        \n",
    "        lolz.append(url)\n",
    "    bants.append([lolz,yoks])\n",
    "    \n",
    "    \n",
    "    \n",
    "print(bants[count][1])"
   ]
  },
  {
   "cell_type": "code",
   "execution_count": 247,
   "metadata": {},
   "outputs": [],
   "source": [
    "count=0"
   ]
  },
  {
   "cell_type": "code",
   "execution_count": 255,
   "metadata": {},
   "outputs": [],
   "source": [
    "count+=1"
   ]
  },
  {
   "cell_type": "code",
   "execution_count": 268,
   "metadata": {},
   "outputs": [],
   "source": [
    "imgNum=0"
   ]
  },
  {
   "cell_type": "code",
   "execution_count": 272,
   "metadata": {},
   "outputs": [],
   "source": [
    "imgNum+=1"
   ]
  },
  {
   "cell_type": "code",
   "execution_count": 273,
   "metadata": {},
   "outputs": [
    {
     "data": {
      "text/html": [
       "<img src=\"https://images-ssl.gotinder.com/5bd900d5d29f540b0512b67d/1080x1080_174d075d-c4a6-4271-a72d-d70c944beee7.jpg\"/>"
      ],
      "text/plain": [
       "<IPython.core.display.Image object>"
      ]
     },
     "execution_count": 273,
     "metadata": {},
     "output_type": "execute_result"
    }
   ],
   "source": [
    "\n",
    "imgURL=bants[count][0][imgNum]\n",
    "Image(url=imgURL)"
   ]
  },
  {
   "cell_type": "code",
   "execution_count": 276,
   "metadata": {},
   "outputs": [],
   "source": [
    "usr = recommendations['data']['results'][count]['user']"
   ]
  },
  {
   "cell_type": "code",
   "execution_count": 277,
   "metadata": {},
   "outputs": [
    {
     "data": {
      "text/plain": [
       "'Currently studying in the UK.\\nLove traveling and meeting new people.'"
      ]
     },
     "execution_count": 277,
     "metadata": {},
     "output_type": "execute_result"
    }
   ],
   "source": [
    "usr['bio']"
   ]
  },
  {
   "cell_type": "code",
   "execution_count": 290,
   "metadata": {},
   "outputs": [
    {
     "data": {
      "text/plain": [
       "'Freya'"
      ]
     },
     "execution_count": 290,
     "metadata": {},
     "output_type": "execute_result"
    }
   ],
   "source": [
    "name = usr['name']\n",
    "name\n"
   ]
  },
  {
   "cell_type": "code",
   "execution_count": 293,
   "metadata": {},
   "outputs": [],
   "source": [
    "if name.lower() == 'puvana':\n",
    "    FileUtils.save_json_to_file(usr,'puvana.json')"
   ]
  },
  {
   "cell_type": "code",
   "execution_count": 279,
   "metadata": {},
   "outputs": [
    {
     "data": {
      "text/plain": [
       "[]"
      ]
     },
     "execution_count": 279,
     "metadata": {},
     "output_type": "execute_result"
    }
   ],
   "source": [
    "usr['schools']"
   ]
  },
  {
   "cell_type": "code",
   "execution_count": 280,
   "metadata": {},
   "outputs": [
    {
     "data": {
      "text/plain": [
       "[]"
      ]
     },
     "execution_count": 280,
     "metadata": {},
     "output_type": "execute_result"
    }
   ],
   "source": [
    "usr['jobs']"
   ]
  },
  {
   "cell_type": "code",
   "execution_count": 281,
   "metadata": {},
   "outputs": [
    {
     "name": "stdout",
     "output_type": "stream",
     "text": [
      "1998-11-03T05:17:42.044Z\n"
     ]
    },
    {
     "data": {
      "text/plain": [
       "19"
      ]
     },
     "execution_count": 281,
     "metadata": {},
     "output_type": "execute_result"
    }
   ],
   "source": [
    "DOB = usr['birth_date']\n",
    "print(DOB)\n",
    "calculate_age(DOB)"
   ]
  },
  {
   "cell_type": "code",
   "execution_count": 282,
   "metadata": {},
   "outputs": [
    {
     "data": {
      "text/plain": [
       "[]"
      ]
     },
     "execution_count": 282,
     "metadata": {},
     "output_type": "execute_result"
    }
   ],
   "source": [
    "successRate = bants[count][1]\n",
    "successRate"
   ]
  },
  {
   "cell_type": "code",
   "execution_count": 283,
   "metadata": {},
   "outputs": [
    {
     "data": {
      "text/plain": [
       "4"
      ]
     },
     "execution_count": 283,
     "metadata": {},
     "output_type": "execute_result"
    }
   ],
   "source": [
    "count"
   ]
  },
  {
   "cell_type": "code",
   "execution_count": 284,
   "metadata": {},
   "outputs": [
    {
     "data": {
      "text/plain": [
       "{'_id': '5bd900d5d29f540b0512b67d',\n",
       " 'bio': 'Currently studying in the UK.\\nLove traveling and meeting new people.',\n",
       " 'birth_date': '1998-11-03T05:17:42.044Z',\n",
       " 'gender': 1,\n",
       " 'jobs': [],\n",
       " 'name': 'Freya',\n",
       " 'photos': [{'crop_info': {'algo': {'height_pct': 0.17582257091999054,\n",
       "     'width_pct': 0.1525937020778656,\n",
       "     'x_offset_pct': 0.37828752398490906,\n",
       "     'y_offset_pct': 0.061279330402612686},\n",
       "    'processed_by_bullseye': True,\n",
       "    'user': {'height_pct': 0.8,\n",
       "     'width_pct': 1.0,\n",
       "     'x_offset_pct': 0.0,\n",
       "     'y_offset_pct': 0.0},\n",
       "    'user_customized': False},\n",
       "   'extension': 'jpg',\n",
       "   'fileName': '80272282-9e5d-490f-8592-639f30a16380.jpg',\n",
       "   'id': '80272282-9e5d-490f-8592-639f30a16380',\n",
       "   'processedFiles': [{'height': 800,\n",
       "     'url': 'https://images-ssl.gotinder.com/5bd900d5d29f540b0512b67d/640x800_80272282-9e5d-490f-8592-639f30a16380.jpg',\n",
       "     'width': 640},\n",
       "    {'height': 400,\n",
       "     'url': 'https://images-ssl.gotinder.com/5bd900d5d29f540b0512b67d/320x400_80272282-9e5d-490f-8592-639f30a16380.jpg',\n",
       "     'width': 320},\n",
       "    {'height': 216,\n",
       "     'url': 'https://images-ssl.gotinder.com/5bd900d5d29f540b0512b67d/172x216_80272282-9e5d-490f-8592-639f30a16380.jpg',\n",
       "     'width': 172},\n",
       "    {'height': 106,\n",
       "     'url': 'https://images-ssl.gotinder.com/5bd900d5d29f540b0512b67d/84x106_80272282-9e5d-490f-8592-639f30a16380.jpg',\n",
       "     'width': 84}],\n",
       "   'url': 'https://images-ssl.gotinder.com/5bd900d5d29f540b0512b67d/1080x1350_80272282-9e5d-490f-8592-639f30a16380.jpg'},\n",
       "  {'crop_info': {'algo': {'height_pct': 0.19475030899047852,\n",
       "     'width_pct': 0.18833500146865845,\n",
       "     'x_offset_pct': 0.38366442918777466,\n",
       "     'y_offset_pct': 0.08764231204986572},\n",
       "    'processed_by_bullseye': True,\n",
       "    'user': {'height_pct': 0.8,\n",
       "     'width_pct': 1.0,\n",
       "     'x_offset_pct': 0.0,\n",
       "     'y_offset_pct': 0.0},\n",
       "    'user_customized': False},\n",
       "   'extension': 'jpg',\n",
       "   'fileName': 'ddb08bcf-5e63-4ce4-8a27-c661bb518149.jpg',\n",
       "   'id': 'ddb08bcf-5e63-4ce4-8a27-c661bb518149',\n",
       "   'processedFiles': [{'height': 800,\n",
       "     'url': 'https://images-ssl.gotinder.com/5bd900d5d29f540b0512b67d/640x800_ddb08bcf-5e63-4ce4-8a27-c661bb518149.jpg',\n",
       "     'width': 640},\n",
       "    {'height': 400,\n",
       "     'url': 'https://images-ssl.gotinder.com/5bd900d5d29f540b0512b67d/320x400_ddb08bcf-5e63-4ce4-8a27-c661bb518149.jpg',\n",
       "     'width': 320},\n",
       "    {'height': 216,\n",
       "     'url': 'https://images-ssl.gotinder.com/5bd900d5d29f540b0512b67d/172x216_ddb08bcf-5e63-4ce4-8a27-c661bb518149.jpg',\n",
       "     'width': 172},\n",
       "    {'height': 106,\n",
       "     'url': 'https://images-ssl.gotinder.com/5bd900d5d29f540b0512b67d/84x106_ddb08bcf-5e63-4ce4-8a27-c661bb518149.jpg',\n",
       "     'width': 84}],\n",
       "   'url': 'https://images-ssl.gotinder.com/5bd900d5d29f540b0512b67d/1080x1350_ddb08bcf-5e63-4ce4-8a27-c661bb518149.jpg'},\n",
       "  {'crop_info': {'algo': {'height_pct': 0.5554898977279663,\n",
       "     'width_pct': 0.4613255262374878,\n",
       "     'x_offset_pct': 0.036979563534259796,\n",
       "     'y_offset_pct': 0.1324865221977234},\n",
       "    'processed_by_bullseye': True,\n",
       "    'user': {'height_pct': 1.0,\n",
       "     'width_pct': 1.0,\n",
       "     'x_offset_pct': 0.0,\n",
       "     'y_offset_pct': 0.0},\n",
       "    'user_customized': False},\n",
       "   'extension': 'jpg',\n",
       "   'fileName': '174d075d-c4a6-4271-a72d-d70c944beee7.jpg',\n",
       "   'id': '174d075d-c4a6-4271-a72d-d70c944beee7',\n",
       "   'processedFiles': [{'height': 640,\n",
       "     'url': 'https://images-ssl.gotinder.com/5bd900d5d29f540b0512b67d/640x640_174d075d-c4a6-4271-a72d-d70c944beee7.jpg',\n",
       "     'width': 640},\n",
       "    {'height': 320,\n",
       "     'url': 'https://images-ssl.gotinder.com/5bd900d5d29f540b0512b67d/320x320_174d075d-c4a6-4271-a72d-d70c944beee7.jpg',\n",
       "     'width': 320},\n",
       "    {'height': 172,\n",
       "     'url': 'https://images-ssl.gotinder.com/5bd900d5d29f540b0512b67d/172x172_174d075d-c4a6-4271-a72d-d70c944beee7.jpg',\n",
       "     'width': 172},\n",
       "    {'height': 84,\n",
       "     'url': 'https://images-ssl.gotinder.com/5bd900d5d29f540b0512b67d/84x84_174d075d-c4a6-4271-a72d-d70c944beee7.jpg',\n",
       "     'width': 84}],\n",
       "   'url': 'https://images-ssl.gotinder.com/5bd900d5d29f540b0512b67d/1080x1080_174d075d-c4a6-4271-a72d-d70c944beee7.jpg'}],\n",
       " 'schools': []}"
      ]
     },
     "execution_count": 284,
     "metadata": {},
     "output_type": "execute_result"
    }
   ],
   "source": [
    "usr"
   ]
  },
  {
   "cell_type": "code",
   "execution_count": 286,
   "metadata": {},
   "outputs": [
    {
     "data": {
      "text/plain": [
       "'5bd900d5d29f540b0512b67d'"
      ]
     },
     "execution_count": 286,
     "metadata": {},
     "output_type": "execute_result"
    }
   ],
   "source": [
    "usrID = usr['_id']\n",
    "usrID"
   ]
  },
  {
   "cell_type": "code",
   "execution_count": 287,
   "metadata": {},
   "outputs": [
    {
     "data": {
      "text/plain": [
       "{'X-Padding': '{*meta*:{*code*:200,*requestId*:*59a45921351e3d43b07028b5*},*response*:{*venue*:{*id*:*412d2800f964a520df0c1fe3*,*name*:*Central Park*,*contact*:{*phone*:*2123106600*,*formattedPhone*:*(212) 310-6600*,*twitter*:*centralparknyc*,*instagram*:*centralparknyc*,*facebook*:*37965424481*,*facebookUsername*:*centralparknyc*,*facebookName*:*Central Park*},*location*:{*address*:*59th St to 110th St*,*crossStreet*:*5th Ave to Central Park West*,*lat*:40.78408342593807,*lng*:-73.96485328674316,*postalCode*:*10028*,*cc*:*US*,*city*:*New York*,*state*:*NY*,*country*:*United States*,*formattedAddress*:[*59th St to 110th St (5th Ave to Central Park West)*,*New York, NY 10028*,*United States*]},*canonicalUrl*:*https://foursquare.com/v/central-park/412d2800f964a520df0c1fe3*,*categories*:[{*id*:*4bf58dd8d48988d163941735*,*name*:*Park*,*pluralName*:*Parks*,*shortName*:*Park*,*icon*:{*prefix*:*https://ss3.4sqi.net/img/categories_v2/parks_outdoors/park_*,*suffix*:*.png*},*primary*:true}],*verified*:true,*stats*:{*checkinsCount*:364591,*usersCount*:311634,*tipCount*:1583,*visitsCount*:854553},*url*:*http://www.centralparknyc.org*,*likes*:{*count*:17370,*summary*:*17370 Likes*},*rating*:9.8,*ratingColor*:*00B551*,*ratingSignals*:18854,*beenHere*:{*count*:0,*unconfirmedCount*:0,*marked*:false,*lastCheckinExpire',\n",
       " 'match': False,\n",
       " 'status': 200,\n",
       " 'super_likes': {'alc_remaining': 0,\n",
       "  'allotment': 1,\n",
       "  'new_alc_remaining': 0,\n",
       "  'remaining': 0,\n",
       "  'resets_at': '2018-11-01T05:23:37.907Z',\n",
       "  'superlike_refresh_amount': 5,\n",
       "  'superlike_refresh_interval': 1,\n",
       "  'superlike_refresh_interval_unit': 'd'}}"
      ]
     },
     "execution_count": 287,
     "metadata": {},
     "output_type": "execute_result"
    }
   ],
   "source": [
    "tinder.superlike(usrID)"
   ]
  },
  {
   "cell_type": "code",
   "execution_count": null,
   "metadata": {},
   "outputs": [],
   "source": [
    "tinder.like(usrID)"
   ]
  },
  {
   "cell_type": "code",
   "execution_count": null,
   "metadata": {},
   "outputs": [],
   "source": [
    "tinder.dislike(usrID)"
   ]
  },
  {
   "cell_type": "code",
   "execution_count": 288,
   "metadata": {},
   "outputs": [
    {
     "data": {
      "text/plain": [
       "{'results': {'_id': '5bd900d5d29f540b0512b67d',\n",
       "  'bio': 'Currently studying in the UK.\\nLove traveling and meeting new people.',\n",
       "  'birth_date': '1998-11-03T05:31:53.425Z',\n",
       "  'birth_date_info': 'fuzzy birthdate active, not displaying real birth_date',\n",
       "  'common_friend_count': 0,\n",
       "  'common_friends': [],\n",
       "  'common_like_count': 0,\n",
       "  'common_likes': [],\n",
       "  'distance_mi': 11,\n",
       "  'gender': 1,\n",
       "  'is_tinder_u': False,\n",
       "  'jobs': [],\n",
       "  'name': 'Freya',\n",
       "  'photos': [{'crop_info': {'algo': {'height_pct': 0.5554898977279663,\n",
       "      'width_pct': 0.4613255262374878,\n",
       "      'x_offset_pct': 0.036979563534259796,\n",
       "      'y_offset_pct': 0.1324865221977234},\n",
       "     'processed_by_bullseye': True,\n",
       "     'user': {'height_pct': 1,\n",
       "      'width_pct': 1,\n",
       "      'x_offset_pct': 0,\n",
       "      'y_offset_pct': 0},\n",
       "     'user_customized': False},\n",
       "    'extension': 'jpg',\n",
       "    'fileName': '174d075d-c4a6-4271-a72d-d70c944beee7.jpg',\n",
       "    'id': '174d075d-c4a6-4271-a72d-d70c944beee7',\n",
       "    'processedFiles': [{'height': 640,\n",
       "      'url': 'https://images-ssl.gotinder.com/5bd900d5d29f540b0512b67d/640x640_174d075d-c4a6-4271-a72d-d70c944beee7.jpg',\n",
       "      'width': 640},\n",
       "     {'height': 320,\n",
       "      'url': 'https://images-ssl.gotinder.com/5bd900d5d29f540b0512b67d/320x320_174d075d-c4a6-4271-a72d-d70c944beee7.jpg',\n",
       "      'width': 320},\n",
       "     {'height': 172,\n",
       "      'url': 'https://images-ssl.gotinder.com/5bd900d5d29f540b0512b67d/172x172_174d075d-c4a6-4271-a72d-d70c944beee7.jpg',\n",
       "      'width': 172},\n",
       "     {'height': 84,\n",
       "      'url': 'https://images-ssl.gotinder.com/5bd900d5d29f540b0512b67d/84x84_174d075d-c4a6-4271-a72d-d70c944beee7.jpg',\n",
       "      'width': 84}],\n",
       "    'url': 'https://images-ssl.gotinder.com/5bd900d5d29f540b0512b67d/1080x1080_174d075d-c4a6-4271-a72d-d70c944beee7.jpg'},\n",
       "   {'crop_info': {'algo': {'height_pct': 0.19475030899047852,\n",
       "      'width_pct': 0.18833500146865845,\n",
       "      'x_offset_pct': 0.38366442918777466,\n",
       "      'y_offset_pct': 0.08764231204986572},\n",
       "     'processed_by_bullseye': True,\n",
       "     'user': {'height_pct': 0.8,\n",
       "      'width_pct': 1,\n",
       "      'x_offset_pct': 0,\n",
       "      'y_offset_pct': 0},\n",
       "     'user_customized': False},\n",
       "    'extension': 'jpg',\n",
       "    'fileName': 'ddb08bcf-5e63-4ce4-8a27-c661bb518149.jpg',\n",
       "    'id': 'ddb08bcf-5e63-4ce4-8a27-c661bb518149',\n",
       "    'processedFiles': [{'height': 800,\n",
       "      'url': 'https://images-ssl.gotinder.com/5bd900d5d29f540b0512b67d/640x800_ddb08bcf-5e63-4ce4-8a27-c661bb518149.jpg',\n",
       "      'width': 640},\n",
       "     {'height': 400,\n",
       "      'url': 'https://images-ssl.gotinder.com/5bd900d5d29f540b0512b67d/320x400_ddb08bcf-5e63-4ce4-8a27-c661bb518149.jpg',\n",
       "      'width': 320},\n",
       "     {'height': 216,\n",
       "      'url': 'https://images-ssl.gotinder.com/5bd900d5d29f540b0512b67d/172x216_ddb08bcf-5e63-4ce4-8a27-c661bb518149.jpg',\n",
       "      'width': 172},\n",
       "     {'height': 106,\n",
       "      'url': 'https://images-ssl.gotinder.com/5bd900d5d29f540b0512b67d/84x106_ddb08bcf-5e63-4ce4-8a27-c661bb518149.jpg',\n",
       "      'width': 84}],\n",
       "    'url': 'https://images-ssl.gotinder.com/5bd900d5d29f540b0512b67d/1080x1350_ddb08bcf-5e63-4ce4-8a27-c661bb518149.jpg'},\n",
       "   {'crop_info': {'algo': {'height_pct': 0.17582257091999054,\n",
       "      'width_pct': 0.1525937020778656,\n",
       "      'x_offset_pct': 0.37828752398490906,\n",
       "      'y_offset_pct': 0.061279330402612686},\n",
       "     'processed_by_bullseye': True,\n",
       "     'user': {'height_pct': 0.8,\n",
       "      'width_pct': 1,\n",
       "      'x_offset_pct': 0,\n",
       "      'y_offset_pct': 0},\n",
       "     'user_customized': False},\n",
       "    'extension': 'jpg',\n",
       "    'fileName': '80272282-9e5d-490f-8592-639f30a16380.jpg',\n",
       "    'id': '80272282-9e5d-490f-8592-639f30a16380',\n",
       "    'processedFiles': [{'height': 800,\n",
       "      'url': 'https://images-ssl.gotinder.com/5bd900d5d29f540b0512b67d/640x800_80272282-9e5d-490f-8592-639f30a16380.jpg',\n",
       "      'width': 640},\n",
       "     {'height': 400,\n",
       "      'url': 'https://images-ssl.gotinder.com/5bd900d5d29f540b0512b67d/320x400_80272282-9e5d-490f-8592-639f30a16380.jpg',\n",
       "      'width': 320},\n",
       "     {'height': 216,\n",
       "      'url': 'https://images-ssl.gotinder.com/5bd900d5d29f540b0512b67d/172x216_80272282-9e5d-490f-8592-639f30a16380.jpg',\n",
       "      'width': 172},\n",
       "     {'height': 106,\n",
       "      'url': 'https://images-ssl.gotinder.com/5bd900d5d29f540b0512b67d/84x106_80272282-9e5d-490f-8592-639f30a16380.jpg',\n",
       "      'width': 84}],\n",
       "    'url': 'https://images-ssl.gotinder.com/5bd900d5d29f540b0512b67d/1080x1350_80272282-9e5d-490f-8592-639f30a16380.jpg'}],\n",
       "  'ping_time': '2014-12-09T00:00:00.000Z',\n",
       "  'schools': []},\n",
       " 'status': 200}"
      ]
     },
     "execution_count": 288,
     "metadata": {},
     "output_type": "execute_result"
    }
   ],
   "source": [
    "tinder.get_person(usrID)"
   ]
  },
  {
   "cell_type": "code",
   "execution_count": null,
   "metadata": {},
   "outputs": [],
   "source": []
  }
 ],
 "metadata": {
  "kernelspec": {
   "display_name": "Python 3",
   "language": "python",
   "name": "python3"
  },
  "language_info": {
   "codemirror_mode": {
    "name": "ipython",
    "version": 3
   },
   "file_extension": ".py",
   "mimetype": "text/x-python",
   "name": "python",
   "nbconvert_exporter": "python",
   "pygments_lexer": "ipython3",
   "version": "3.5.2"
  }
 },
 "nbformat": 4,
 "nbformat_minor": 2
}
